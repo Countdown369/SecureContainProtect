{
 "cells": [
  {
   "cell_type": "markdown",
   "id": "29c8d757",
   "metadata": {},
   "source": [
    "-create pipeline to scrape stories off of the SCP wiki\n",
    "-run analysis on these stories, lots of different metrics (word count, find some python libraries to analyize the stories)\n",
    "-plan on using some sort of machine learning algorithmn to find out what stories are closest to each other\n",
    "-this way, can create something that recommends certain scps based on other ones\n",
    "\n",
    "-NLTK (natural language tool kit)\n",
    "-get sentiment"
   ]
  },
  {
   "cell_type": "code",
   "execution_count": 4,
   "id": "4587b768",
   "metadata": {},
   "outputs": [],
   "source": [
    "# Here is an example of a pipline for scraping SCP data\n",
    "import requests\n",
    "import json\n",
    "# first, it gets the html for the given scp\n",
    "def get_scp(scp):\n",
    "    '''gets html of the given scp number\n",
    "    Args:\n",
    "        scp (int): the number of the scp \n",
    "    Returns:\n",
    "        html_str (str): html response from the scp wiki\n",
    "    \n",
    "    '''\n",
    "    url = f'https://scp-wiki.wikidot.com/scp-{scp}'\n",
    "    return requests.get(url).text"
   ]
  },
  {
   "cell_type": "code",
   "execution_count": 5,
   "id": "45b83baa",
   "metadata": {},
   "outputs": [],
   "source": [
    "# next, we can go through that text and get some parts about the SCP\n",
    "from bs4 import BeautifulSoup\n",
    "\n",
    "def clean_scp(scp):\n",
    "    '''cleans scp html text to its gives back info about the scp\n",
    "    Args:\n",
    "        scp (str): the html response from scp wiki\n",
    "    Returns:\n",
    "        scp_text (str): some data from scp wiki\n",
    "    \n",
    "    '''\n",
    "    # first, transform the html into beautiful soup\n",
    "    scp_soup = soup = BeautifulSoup(scp)\n",
    "    \n",
    "    # then find everything that is in a paragraph\n",
    "    # Everything in paragraph is writing about the SCP, but only if it is in the form of actual writing (starts with capital)\n",
    "    scp_story = str()\n",
    "    scp_text = scp_soup.find_all('p')\n",
    "    for sentence in scp_text:\n",
    "        try:\n",
    "            if sentence.text[0].isupper() == True:\n",
    "                scp_story = scp_story + \" \" + sentence.text\n",
    "        except: \n",
    "            continue\n",
    "    \n",
    "    return(scp_story)"
   ]
  },
  {
   "cell_type": "code",
   "execution_count": 6,
   "id": "5a825639",
   "metadata": {},
   "outputs": [
    {
     "name": "stdout",
     "output_type": "stream",
     "text": [
      " Getting Started SCP by Series Other SCP Feed Stories Discovery Random More by DarkStuff~! The area known to the public as the state of Massachusetts. Item #: SCP-4006 Object Class: Thaumiel Special Containment Procedures: No concrete containment procedures are necessary. Actions taken in regards to SCP-4006 should follow standard protocol of maintaining the veil (Protocol MtV-4006). Description: SCP-4006 is a probabilistic anomaly affecting the state of Massachusetts, USA. SCP-4006 works to perpetuate the idea that Massachusetts is a populated state with a government, infrastructure, economy, various population centers, et cetera. Due to this, the true nature of Massachusetts is entirely unknown to the public; Massachusetts has no history of human occupation. All effects of SCP-4006 are in and of themselves mundane events, though highly improbable. It is the pervasiveness and frequency of these nigh incalculably low probability events, and their collaboration to effectively spread misinformation about Massachusetts, that earns SCP-4006 anomalous recognition. Why several SCP Foundation researchers were immune to the effects of SCP-4006 and were able to discover it (and subsequently spread the information to others) is unclear. To better understand SCP-4006's effects, the following is a heavily abridged early history of Massachusetts: It is difficult to assess the history of Massachusetts past this due to SCP-4006's effects. By 1928, SCP-4006-A spanned the entire east coast and several northeastern states. Concentrations were (and are still) highest in Rhode Island, Connecticut, New Hampshire, Vermont, New York, and New Jersey. The furthest west that SCP-4006-A have been identified is North Dakota. People believing themselves to be visiting any city in Massachusetts (such as Boston) will actually be in any number of other cities near Massachusetts. Such cities include New York City, Philadelphia, Buffalo, and Pittsburgh. Whenever in a conversation where the name of, trivia about, or landmarks within the city are discussed, people will only encounter others who believe themselves to be in the same city. Note that due to the scale of SCP-4006, only enough effects to communicate the nature of SCP-4006 have been recorded here. For a list of all recorded effects of SCP-4006, contact any personnel of 4/4006 clearance. Addendum 4006-1 | Foundation Occupation of Massachusetts\n",
      "SCP-4006's effects make Massachusetts an unusually secure location for Foundation activities. However, while SCP-4006 is currently the most powerful probability based anomaly within the Foundation's knowledge, purview, and containment, it has been shown to be imperfect, as several Foundation scientists were able to discover the true nature of Massachusetts while researching anomalies they believed to be within Massachusetts. As such, Protocol MtV-4006 has been created. Protocol MtV-4006 is a reminder to all involved with SCP-4006 and those working in Sites within Massachusetts: Do not assume that SCP-4006 will keep activity secret. Continue to take all necessary precautions to maintain the veil, in the event that SCP-4006 fails to censor all information about the true nature of Massachusetts. In the name of MtV-4006, the SCP Foundation has allocated several million USD a year towards creating further defenses against the public discovery of the true nature of Massachusetts. Such precautions have included: At the time of writing, all precautions have been wholly unnecessary, as SCP-4006 continues to function as expected. This fact has not diminished the Foundation's dedication to Protocol MtV-4006. Addendum 4006-1 Extension: Continued Foundation Occupation of Massachusetts\n",
      "Sites within Massachusetts have expanded to be the five largest Foundation Sites. Site-19's function as the largest collection of Foundation Level 5 personnel, Site surveyors, HMCL supervisors etc., as well as the home of the Ethics Committee Board, has now been transferred to Site-4006, based at the supposed location of Boston. Many difficult to contain SCP objects, or objects that take up a significant amount of space to contain, have since been moved en masse to Massachusetts. Hundreds of Foundation researchers, staff, and miscellaneous personnel have migrated to Massachusetts in consequence. In light of this, several developments have been made in the name of Protocol MtV-4006, including: In response to these developments, Project-4006-109, \"Full Realization of Massachusetts\", has been proposed in hopes of creating a functioning state within the United States in which the Foundation alone may operate and accommodate for thousands of personnel. Official implementation of Project-4006-109 would begin in two years, if approved. Addendum 4006-2 | Completion of Project-4006-109 & Expanding Awareness of SCP-4006\n",
      "Project-4006-109 has been completed, and the state of Massachusetts recreated from common public misunderstandings of its structure. All major cities and small towns have been created, infrastructure mimicked, housing populated with SCP Foundation personnel, and all major \"public roads\" created. The US government has begun to treat the physical location of Massachusetts and its Foundation personnel as true citizens of Massachusetts. SCP Foundation personnel in the US government have implemented a system by which only fellow Foundation personnel within the government ever preside over Massachusetts. This way, the true nature of Massachusetts continues to remain secret, while also allowing the SCP Foundation's recreation of Massachusetts to function as a real state within the United States. Commercial flights have now been seen flying over Massachusetts, and several civilian cars have passed through Massachusetts at various times. In light of this, classified Foundation activities have been further suppressed and Protocol MtV-4006 has taken even higher precedence. Testing areas above ground have been officially \"closed off to the public\", to make certain that civilians passing through do not stumble upon classified materials.\n",
      "\n",
      "\n",
      "[Several Addenda have been removed due to redundancy and repetition. To view a list of removed Addenda, contact any researcher of 4/4006 clearance.]\n",
      "\n",
      "\n",
      "Addendum 4006-8 | Uncertainty Regarding SCP-4006\n",
      "In 2023 it has been found that fewer than 20 people believing themselves to be in Massachusetts exist outside of the state of Massachusetts, and that those that do are not under the effects of a probabilistic anomaly such as SCP-4006. Massachusetts is now more populated by normal US citizens than Foundation personnel. While Massachusetts remains the largest collection of SCP Foundation assets, all Sites, testing grounds, outposts, and otherwise, are hidden and contained. In light of this, three motions have been proposed: The first motion argues that SCP-4006 no longer quantifiably exists. The second motion argues that while SCP-4006 was a large enough phenomenon to warrant the designation of an SCP object at the time, every individual piece of SCP-4006 was able to be explained by coincidence and science. The third motion has been put forth by the O5 council.\n",
      "\n",
      " The state of Massachusetts, through which SCP-4006 was theorized. Item #: SCP-4006 Object Class: Thaumiel Special Containment Procedures: N/A Description: SCP-4006's existence is in and of itself theoretical. Proof of SCP-4006's existence or nonexistence has not been concretely gathered, but due to SCP-4006's likelihood to exist and its position as the most powerful probabilistic anomaly in existence if it were to exist it has been recorded as an SCP object. Evidence for SCP-4006's existence includes: However, due to SCP-4006 only potentially existing, and evidence suggesting that if it does exist that the SCP Foundation in part perpetuates it, it is best to assume that SCP-4006 does not exist. Allowing the theory of SCP-4006's existence to perpetuate may instill a sense of apathy and meaninglessness, leading towards SCP Foundation personnel taking far greater risks than are necessary while holding the belief that SCP-4006 will cover any mistakes of theirs. SCP-4006 is the phenomenon known as \"the veil\". Cite this page as: For more information, see Licensing Guide.\n",
      "Licensing Disclosures Image 1 Filename: MS\n",
      "Name: File:Massachusetts in United States (zoom).svg\n",
      "Author: TUBS\n",
      "License: CC BY-SA 3.0\n",
      "Source Link: https://commons.wikimedia.org/wiki/File:Massachusetts_in_United_States_(zoom).svg For more information about on-wiki content, visit the Licensing Master List.\n"
     ]
    }
   ],
   "source": [
    "# We will test out this code with SCP 4006- the state of Massachusetts. \n",
    "# Read the full post here: https://scp-wiki.wikidot.com/scp-4006\n",
    "scp_4006 = get_scp(4006)\n",
    "scp_4006_text = clean_scp(scp_4006)\n",
    "print(scp_4006_text)"
   ]
  },
  {
   "cell_type": "code",
   "execution_count": 9,
   "id": "4db240f8",
   "metadata": {},
   "outputs": [
    {
     "name": "stdout",
     "output_type": "stream",
     "text": [
      " Getting Started SCP by Series Other SCP Feed Stories Discovery Random SCP-1644: The Obelisk Author: weizhong SCP-1644-1 Item #: SCP-1644 Object Class: Safe Special Containment Procedures: Outpost-126 has been established in order to monitor SCP-1644. Given SCP-1644's remote location, all individuals sighted within 500 m of the area will be turned back on the pretense of an archaeological excavation in the region. All excavations of areas within SCP-1644's active area of influence must be undertaken using unmanned robots that are remotely controlled from Outpost-126. Description: SCP-1644 is an anomalous region located near [REDACTED], Egypt. The region comprising SCP-1644 is a series of ruins roughly dating to the Egyptian Old Kingdom, according to inscriptions found in the ruins. SCP-1644's main anomalous effect occurs in a region surrounding an obelisk at the center of the ruins, hereafter referred to as SCP-1644-1. Exactly 47.16 meters1 from the center of the obelisk, all humans express extreme distaste for approaching the obelisk. Any attempts to voluntarily approach closer than 47.16 meters have failed, as all individuals spontaneously lose all interest in approaching any closer. Use of force has failed to coerce individuals to approach SCP-1644-1, and research along this line should not be taken. Individuals physically forced to enter the area will become intensely uncomfortable, and will seek to leave the area of effect as soon as possible. All attempts to convince said individuals to perform any action other than leaving immediately have ended in failure. Threats of violence, up to, and including death as a punishment for refusing to enter SCP-1644's active area have failed, as individuals will continue to refuse to enter SCP-1644, even when such threats have been carried out on the individual themselves, or if an individual witnesses the threats being carried out on others. SCP-1644-1 bears an inscription that is repeated on each side of the obelisk. Translated from the original hieroglyphics, SCP-1644-1's inscription reads, \"The hand of (illegible) extends beyond death itself.\" The same word on each side of the obelisk is illegible, and ongoing attempts to determine the word remain inconclusive. The full inscription previously read, \"The hand of Ba-Ka extends beyond death itself.\" The name Ba-Ka (also Hellenized as Bikheris) refers to a Pharaoh of Egypt during the 4th Dynasty around 2500 BCE, who ruled after Khafre, and before Menkaure, according to the Turin King list. Current knowledge of Ba-Ka in the Egyptology field has been challenged by Foundation-implanted archaeologists in an attempt to suppress active knowledge of Ba-Ka. Primary source documents and other knowledge of Ba-Ka that survived the initial Egyptian purge have been altered and otherwise tampered with to erase knowledge of Ba-Ka. All inscriptions in SCP-1644 containing his name have been erased. Erasure or acquisition of all sources known to reference Ba-Ka is to be considered a primary means of containment for SCP-1644. The ruins found within SCP-1644 contain many artifacts that do not exhibit anomalous properties. These artifacts are currently being stored at Reliquary Site-62’s historical artifact department. During scheduled excavation, a series of papyrus scrolls written in hieratic were found in the northwest region of SCP-1644. These scrolls have been organized here in what researchers have deemed is the correct chronological order. The content of these scrolls was deemed sensitive after review by the supervisor of SCP-1644. All personnel below the clearance of 4/1644 who were aware of these scrolls were administered Class-B amnestics. The content of the scrolls has been transcribed here. Long live the true Pharaoh, Ba-Ka, He Who is the Soul and Life of the People. The false Pharaoh, Menkaure, sits upon a throne of deceit, and he shall be overthrown to make way for the true Pharaoh when the gods smile upon us. The people have been turned against the true Pharaoh, but we will wipe away the false Pharaoh's lies. We remain at the last stronghold, far away into the land of the setting sun. The false Pharaoh will not find us here. The Pharaoh has gathered his most powerful mages to see the way forward. No false Pharaoh can stand against the power of the divine. This false believer who has decried our arts will suffer the consequences of his heresy. Praise the true Pharaoh. His name will live on in glory, and his reign will be forever remembered for its defeat of the unholy. Hekuhirkopshef, greatest of the Pharaoh's mages, has come forward, and proposed something to the Pharaoh. Something in his book of magic holds the way forward, he claims. The other mages do not trust him, but they cannot deny his cleverness, and the power of his book is beyond their reach. This ritual that you have proposed is of an immense cost. I do not have enough innocents to sacrifice, as you have stated is necessary. I can only substitute the blood of others, which should suffice for this ritual. Surely your book cannot be so narrow as to prevent this? If the ritual continues as you have stated, you shall be rewarded with the finest riches once the throne is mine again. The True Pharaoh, Ba-Ka, He Who is the Soul and Life of the People. This ritual contains some of the most powerful magic in the world, great and mighty Pharaoh. The gods will be satisfied by the sacrifice, and eternal life shall be yours, if and only if you follow the ritual exactly. The ritual itself shall not be difficult. Fear not. The power of my magic has already given you the charm to ward off false believers, a testament to my strength. Potent magic as to twist the minds of men is magic of a degree beyond the reach of most of your petty illusionists, who could not begin to fathom the first page of the book of power. Hekuhirkopshef, He Whose Strength is Magic, and Keeper of the Book. We will never agree to this ritual, Pharaoh. Consider this a petition and formal letter of complaints. This is nothing less than a blasphemy against the gods themselves. Eternal life was not meant for us, and no sacrifice shall placate the wrath of the gods, once a soul has been denied to Ma'at and Osiris. We remained with you when Menkaure rose up to denounce you, but we cannot stay silent at this travesty. High Priest Menmaatre By the imperial decree of Ba-Ka, true Pharaoh of the Twin Kingdoms of Egypt, all priests who have signed this recent open letter of rebellion have been seized. These priests sought to challenge the authority of the son of the gods, and this is nothing less than heresy. They will be dealt with swiftly, and with punishment befitting their heinous crime. Imperial Decree of Ba-Ka, He Who is the Soul and Life of the People. The ritual site is being established. The mage stated that here, deep in the heart of the land of the dead is the only point in which it could happen. There is no other location in which such a ritual could ever be attempted. The sacrifices have been made ready, and the once-holy nature of such sacrifices should placate the gods. Osiris will have his souls. Praise the Pharaoh, Ba-Ka, He whose reign shall last for generations; He who is the shatterer of heresies; He who possesses the wisdom of Thoth, and the strength of Horus; He Who is the Soul and Life of the People. This ritual cannot be completed as you have demanded. I cannot acquire the blood of innocents, nor am I willing to give it. The gods will have to accept blood that is not wholly pure. There is no other option available. I must proceed with what I have. The pretender's forces cannot be kept away forever, and the illusionists' charms will not hide us indefinitely. I feel death coming. I cannot wait any longer. I shall be buried soon, and the ritual must take place. The True Pharaoh, Ba-Ka, He Who is the Soul and Life of the People. Then prepare for the consequences of failing the gods, Pharaoh. The book of power does not lie. It speaks the only truth in this world, the truth of power and magic. I can say nothing more. May the gods have mercy upon your soul. Hekuhirkopshef, He Whose Strength is Magic, and Keeper of the Book. The mage was right. The gods were not satisfied with the sacrifice. Ma'at is furious that her scales have been robbed. Ammit is unleashed upon this world, and the unholy plagues of the gods have descended upon our stronghold. The mage is gone, and his promises of eternal life are as well. The Pharaoh yet slumbers in his tomb, hidden away from the eyes of the gods and men. Ammit's rage seeks to devour us all. The gods will obtain the innocent blood that they desire, one way or another. Do not pray for deliverance. Prayers are futile when the gods themselves are wrathful. There is no salvation. We are guilty men, and the gods will destroy us for our impudence. Knowledge about SCP-1644's true primary purpose as a ritual site is to remain to individuals of Level 4/1644 clearance and above. If an individual without proper clearance becomes aware of SCP-1644's true purpose, it is to be considered a containment breach. Acquiring any information about the book referenced in several of the volumes is considered to be of the utmost importance. All documents that reference Ba-Ka are to be scanned for further information concerning such a book, and then are to be destroyed in order to prevent possible links to the book, or the figure known as \"Hekuhirkopshef,\" who is referred to as the keeper of the book. Currently, the only personnel stationed at Outpost-126 who are aware of SCP-1644's true purpose are the current supervisor, and the deputy supervisor. The following document was also seized from the excavation of Menkaure's tomb, following its discovery by archaeologists. All individuals coming in contact with the document were issued Class-B amnestics. The blasphemer king, Ba-Ka, has been overthrown, and his magic rituals and blasphemy against the gods has been overthrown as well. No mention of his rule will ever occur. I demand that all information about Ba-Ka be erased, and that the remaining officials during his time be executed immediately. His stronghold will be destroyed immediately, and his corpse shall be scattered into pieces and burned for his heresy. This plague that he has unleashed will be crushed swiftly. The chief of his blasphemies, Hekuhirkopshef, is to be found immediately. He shall be cut to pieces, burned, and fed to the Eastern desert, forever out of reach of the land of true salvation. His book must be seized, and brought to me. May Thoth's wisdom guide us forward, and shatter the blasphemer's ways. Addendum: During an excavation conducted using remotely-operated robots on 6/8/██, a previously unknown underground room was found directly beneath SCP-1644-1. Upon further inspection, the room was found to be mostly empty, except for one sarcophagus in the center of the room. It has been stored with the remaining artifacts from SCP-1644 at Site 57's historical artifact department. The identity of the sarcophagus's owner remains unknown. On 10/8/██, in order to acquire more information about the sarcophagus, the then supervisor of SCP-1644 ordered a CT scan. While examining the images of the CT scan, an error was noticed that caused blurring of the image. Following 2 more tests that featured the same blurring, Foundation radiologists confirmed that the blurring on the image was consistent with movement in the interior of the subject of the scan. All radiologists involved in this test have been issued Class-A amnestics.\n"
     ]
    }
   ],
   "source": [
    "# We will test out this code with SCP 4006- the state of Massachusetts. \n",
    "# Read the full post here: https://scp-wiki.wikidot.com/scp-4006\n",
    "scp_4752 = get_scp(1644)\n",
    "scp_4752_text = clean_scp(scp_4752)\n",
    "print(scp_4752_text)"
   ]
  }
 ],
 "metadata": {
  "kernelspec": {
   "display_name": "Python 3 (ipykernel)",
   "language": "python",
   "name": "python3"
  },
  "language_info": {
   "codemirror_mode": {
    "name": "ipython",
    "version": 3
   },
   "file_extension": ".py",
   "mimetype": "text/x-python",
   "name": "python",
   "nbconvert_exporter": "python",
   "pygments_lexer": "ipython3",
   "version": "3.8.12"
  }
 },
 "nbformat": 4,
 "nbformat_minor": 5
}
