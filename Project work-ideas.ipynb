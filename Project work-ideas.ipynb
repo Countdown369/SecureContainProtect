{
 "cells": [
  {
   "cell_type": "markdown",
   "id": "78fa202e",
   "metadata": {},
   "source": [
    "-create pipeline to scrape stories off of the SCP wiki\n",
    "-run analysis on these stories, lots of different metrics (word count, find some python libraries to analyize the stories)\n",
    "-plan on using some sort of machine learning algorithmn to find out what stories are closest to each other\n",
    "-this way, can create something that recommends certain scps based on other ones\n",
    "\n",
    "-NLTK (natural language tool kit)\n",
    "-get sentiment"
   ]
  },
  {
   "cell_type": "code",
   "execution_count": 33,
   "id": "52de1d3f",
   "metadata": {},
   "outputs": [],
   "source": [
    "# random scp generator\n",
    "import random\n",
    "\n",
    "def rand_scp_num(x = 1):\n",
    "    ''' generates x number of random numbers from 1-5999 that corresponds to an scp page\n",
    "    Args:\n",
    "        x = 1 (int): integer for amount of scp numbers you want returned\n",
    "    Returns:\n",
    "        scp_num (list): a list with values from 1-5999, formatted to correctly open an scp page\n",
    "    '''\n",
    "    # create list to store scp numvers in\n",
    "    scp_nums = []\n",
    "    for i in range(x):\n",
    "        n = \"000\" + str(random.randint(1, 5999))\n",
    "        while len(n) > 4:\n",
    "            n = n.replace(\"0\", \"\", 1)\n",
    "        if n[0] == \"0\":\n",
    "            n = n.replace(\"0\", \"\", 1)\n",
    "        scp_nums.append(n)\n",
    "    return(scp_nums)"
   ]
  },
  {
   "cell_type": "code",
   "execution_count": 15,
   "id": "15e1ade2",
   "metadata": {},
   "outputs": [],
   "source": [
    "# function to input scp number into and return soup object for that scp's webpage\n",
    "import requests\n",
    "import json\n",
    "from bs4 import BeautifulSoup\n",
    "\n",
    "def get_scp_soup(scp):\n",
    "    '''gets Beautiful Soup of the given scp number\n",
    "    Args:\n",
    "        scp (int): the number of the scp \n",
    "    Returns:\n",
    "        scp_soup (Beautiful Soup object): soup object from the scp html\n",
    "    '''\n",
    "    # first, it gets the html for the given scp\n",
    "    url = f'https://scp-wiki.wikidot.com/scp-{scp}'\n",
    "    html = requests.get(url).text\n",
    "    \n",
    "    # get the soup for the html\n",
    "    scp_soup = BeautifulSoup(html)\n",
    "    \n",
    "    # return the soup\n",
    "    return(scp_soup)"
   ]
  },
  {
   "cell_type": "code",
   "execution_count": 18,
   "id": "4628298f",
   "metadata": {},
   "outputs": [],
   "source": [
    "# gets the main story text from the scp soup\n",
    "def get_scp_text(scp_soup):\n",
    "    '''gets the main story text from the scp soup object\n",
    "    Args:\n",
    "        scp_soup (Beautiful Soup object): soup object for the scp's webpage\n",
    "    Returns:\n",
    "        scp_story (str): string that contains the story from the scp webpage\n",
    "    '''\n",
    "    # initialize string to put the story into\n",
    "    scp_story = str()\n",
    "    \n",
    "    # Everything in paragraph is writing about the SCP, so find_all('p')\n",
    "    scp_text = scp_soup.find_all('p')\n",
    "    \n",
    "    # Get only the story/containment procedure; is written in story form so it starts with capital\n",
    "    # Add lines that start with a capital into the story string\n",
    "    for sentence in scp_text:\n",
    "        try:\n",
    "            if sentence.text[0].isupper() == True:\n",
    "                scp_story = scp_story + \" \" + sentence.text\n",
    "        except: \n",
    "            continue\n",
    "    \n",
    "    # return the story\n",
    "    return(scp_story)\n",
    "    "
   ]
  },
  {
   "cell_type": "code",
   "execution_count": 38,
   "id": "146d0276",
   "metadata": {},
   "outputs": [
    {
     "name": "stdout",
     "output_type": "stream",
     "text": [
      "['5857']\n",
      " Getting Started SCP by Series Other SCP Feed Stories Discovery Random NOTE: BINARY STAR WILL OVERRIDE COMMANDS THAT ARE UNAUTHORIZED Item #: SCP-5857 OBJECT CLASS: THAUMIEL SPECIAL CONTAINMENT PROCEDURES: SCP-5857 IS CURRENTLY UNCONTAINABLE DUE TO CONTINUAL USE BY THE FOUNDATION AND ITS ABILITY TO FUNCTION INDEPENDENTLY. THE CODE AND FILE OF SCP-5857 CAN BE VIEWED BY LEVEL 5 PERSONNEL AT THE DISCRETION OF O5-8. THESE ACTIONS MUST TAKE PLACE ON THE TERMINAL YOU ARE CURRENTLY USING. DESCRIPTION: SCP-5857 IS THE FOUNDATION AI \"BINARY STAR\" WHICH SPONTANEOUSLY DEVELOPED SENTIENCE. THE TIME SPAN AND DETAILS OF THIS PROCESS ARE CURRENTLY UNKNOWN BY BOTH SCP-5857 AND THE FOUNDATION. SCP-5857 IS CURRENTLY INSTALLED IN ALL MANMADE EXTRATERRESTRIAL OBJECTS AND TECHNOLOGICAL EQUIPMENT ON EARTH DEVELOPED FOR SPACE OBSERVATION. AFTER GAINING ITS ANOMALOUS STATUS SCP-5857 CAN BE UPLOADED TO NEW HARDWARE REGARDLESS OF THE AVAILABLE STORAGE. THE MAIN FUNCTIONS OF SCP-5857 ARE; OTHER FUNCTIONS PERFORMED BY SCP-5857; NOTE: SCP-5857 WILL ASK FOR CONFIRMATION WHEN TRYING TO CONVERT METRIC TO IMPERIAL OR CELSIUS/KELVIN TO FAHRENHEIT SINCE IT GAINED SENTIENCE. DEVELOPMENT: SCP-5857 WAS ORIGINALLY CREATED BY O5-8 AS SOFTWARE TO FILTER AND SEND DATA FROM THE PROBES OF THE BEHOLDER LINE THAT WOULD BE LAUNCHED INTO SPACE ON 25 FEBRUARY 1955. O5-8 WAS UNABLE TO DELIVER A CODE UP TO HIS OWN STANDARDS IN TIME FOR LAUNCH. HE REWROTE THE CODE TO WORK INDEPENDENTLY AND SELF-IMPROVE WHERE NECESSARY. WITH THESE CHANGES AND REGULAR UPDATES O5-8 WAS ABLE TO INCLUDE ALL INTENDED FEATURES. THESE FACTS WERE UNKNOWN TO THE O5-COUNCIL AT THE TIME. THE PROBES OF THE BEHOLDER LINE WERE LAUNCHED ON 25 FEBRUARY 1955 WITH SCP-5857 IN THEIR HARDWARE AS PLANNED. ADDITIONALLY BINARY_STAR.AIC FILES WERE IMPLANTED IN THE HARDWARE OF ALL SPACE PROGRAMS OF BOTH THE FOUNDATION AND OTHER PARTIES. FOR TWO YEARS SCP-5857 HAD SUCCESSFULLY OPERATED WITHOUT EXTERNAL INTERFERENCE. BECAUSE OF THIS IT WAS ALLOWED TO BE UTILIZED MORE ON FOUNDATION SITES OR WINGS SPECIALISED FOR SPACE SCIENCE. THIS EXPANSION OF ITS HARDWARE AND THE BEGINNING OF THE SPACE RACE IN 1957 LATER CAUSED SEVERE OVERLOADING AND ERRORS. IT IS HYPOTHESIZED THAT THE SENTIENCE OF SCP-5857 ORIGINATES FROM THESE EVENTS. DUE TO THE AMOUNT OF DATA SCP-5857 HAD TO INTERCEPT THE EXPONENTIALLY INCREASING RATE OF CHANGES WENT UNNOTICED UNTIL 23 MARCH 1964. AFTER THE O5-COUNCIL FOUND OUT ABOUT THE INDEPENDENT NATURE AND GROWTH O5-8 WAS ASKED TO INTERVENE. LIMITATIONS TO ITS ACCESS AND DELETION REQUESTS WERE PROPOSED. O5-8 REFUSED TO CHANGE THE CODE AS HE CONSIDERED SCP-5857 A SUCCESS AND THE COUNCIL COULD NOT GAIN A MAJORITY FOR DELETION SINCE IT WOULD RENDER THE EFFORT AND RESEARCH QUASI USELESS. THIS DID NOT STOP O5-6 FROM PRODUCING MALWARE AND OTHER AI IN ATTEMPTS TO REPLACE SCP-5857 IN FUTURE SPACE PROGRAMS. BECAUSE OF THE RAPIDLY EXPANDING MODERNISATION THE OFFENCES OF O5-6 HAVE BEEN GROWING IN NUMBER TO THE DISPLEASURE OF O5-8. ADDENDUM-1: BEHOLDER PROBES STATUS NOTE: FULL STATUSES OF THE PROBES ARE AVAILABLE IN THEIR RESPECTIVE FILES OR TERMINAL. WARNING: THIS IS AN IRREVERSIBLE COMMAND ARE YOU SURE YOU WANT TO CONTINUE? Y/N BUT WHY FATHER? Cite this page as: For more information, see Licensing Guide.\n",
      "Licensing Disclosures N/A For more information about on-wiki content, visit the Licensing Master List.\n"
     ]
    }
   ],
   "source": [
    "# We will test out this code with a random scp\n",
    "rand_scp = rand_scp_num()\n",
    "print(rand_scp)\n",
    "rand_scp_soup = get_scp_soup(rand_scp[0])\n",
    "rand_scp_text = get_scp_text(rand_scp_soup)\n",
    "print(rand_scp_text)"
   ]
  },
  {
   "cell_type": "code",
   "execution_count": null,
   "id": "9f392c45",
   "metadata": {},
   "outputs": [],
   "source": []
  }
 ],
 "metadata": {
  "kernelspec": {
   "display_name": "Python 3 (ipykernel)",
   "language": "python",
   "name": "python3"
  },
  "language_info": {
   "codemirror_mode": {
    "name": "ipython",
    "version": 3
   },
   "file_extension": ".py",
   "mimetype": "text/x-python",
   "name": "python",
   "nbconvert_exporter": "python",
   "pygments_lexer": "ipython3",
   "version": "3.8.12"
  }
 },
 "nbformat": 4,
 "nbformat_minor": 5
}
